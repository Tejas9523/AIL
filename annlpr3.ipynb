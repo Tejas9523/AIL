{
  "nbformat": 4,
  "nbformat_minor": 0,
  "metadata": {
    "colab": {
      "provenance": [],
      "include_colab_link": true
    },
    "kernelspec": {
      "name": "python3",
      "display_name": "Python 3"
    },
    "language_info": {
      "name": "python"
    }
  },
  "cells": [
    {
      "cell_type": "markdown",
      "metadata": {
        "id": "view-in-github",
        "colab_type": "text"
      },
      "source": [
        "<a href=\"https://colab.research.google.com/github/Tejas9523/AIL/blob/main/annlpr3.ipynb\" target=\"_parent\"><img src=\"https://colab.research.google.com/assets/colab-badge.svg\" alt=\"Open In Colab\"/></a>"
      ]
    },
    {
      "cell_type": "code",
      "execution_count": null,
      "metadata": {
        "id": "pEG8CQK7UpLt"
      },
      "outputs": [],
      "source": [
        "import numpy as np"
      ]
    },
    {
      "cell_type": "code",
      "source": [
        "class Perceptron:\n",
        "    def __init__(self, input_size):\n",
        "        self.weights = np.random.rand(input_size)\n",
        "        self.bias = np.random.rand()\n",
        "\n",
        "    def predict(self, inputs):\n",
        "        summation = np.dot(inputs, self.weights) + self.bias\n",
        "        return 1 if summation > 0 else 0"
      ],
      "metadata": {
        "id": "a9KhdVIDUrJe"
      },
      "execution_count": null,
      "outputs": []
    },
    {
      "cell_type": "code",
      "source": [
        "def convert_to_binary_ascii(number):\n",
        "    binary_ascii = format(number, '08b')\n",
        "    return [int(bit) for bit in binary_ascii]"
      ],
      "metadata": {
        "id": "aIdMOy9vUxop"
      },
      "execution_count": null,
      "outputs": []
    },
    {
      "cell_type": "code",
      "source": [
        "def train_perceptron():\n",
        "    training_data = [\n",
        "        (0, 0),\n",
        "        (1, 1),\n",
        "        (2, 0),\n",
        "        (3, 1),\n",
        "        (4, 0),\n",
        "        (5, 1),\n",
        "        (6, 0),\n",
        "        (7, 1),\n",
        "        (8, 0),\n",
        "        (9, 1),\n",
        "    ]\n",
        "\n",
        "    perceptron = Perceptron(input_size=8)\n",
        "\n",
        "    epochs = 1000\n",
        "    learning_rate = 0.1\n",
        "\n",
        "    for epoch in range(epochs):\n",
        "        for number, label in training_data:\n",
        "            binary_ascii = convert_to_binary_ascii(number)\n",
        "            prediction = perceptron.predict(binary_ascii)\n",
        "            error = label - prediction\n",
        "\n",
        "            perceptron.weights += learning_rate * error * np.array(binary_ascii)\n",
        "            perceptron.bias += learning_rate * error\n",
        "\n",
        "    return perceptron"
      ],
      "metadata": {
        "id": "zYdYF90cU0E1"
      },
      "execution_count": 4,
      "outputs": []
    },
    {
      "cell_type": "code",
      "source": [
        "def main():\n",
        "    perceptron = train_perceptron()\n",
        "\n",
        "    test_numbers = [2, 7, 4, 9, 1]\n",
        "\n",
        "    for number in test_numbers:\n",
        "        binary_ascii = convert_to_binary_ascii(number)\n",
        "        prediction = perceptron.predict(binary_ascii)\n",
        "\n",
        "        print(f\"Number: {number}, Prediction: {'Even' if prediction == 0 else 'Odd'}\")\n",
        "\n",
        "if __name__ == \"__main__\":\n",
        "    main()"
      ],
      "metadata": {
        "colab": {
          "base_uri": "https://localhost:8080/"
        },
        "id": "jJ5efHOyU_T5",
        "outputId": "5312c0f7-4873-4b85-f7cc-98b2005b2436"
      },
      "execution_count": 5,
      "outputs": [
        {
          "output_type": "stream",
          "name": "stdout",
          "text": [
            "Number: 2, Prediction: Even\n",
            "Number: 7, Prediction: Odd\n",
            "Number: 4, Prediction: Even\n",
            "Number: 9, Prediction: Odd\n",
            "Number: 1, Prediction: Odd\n"
          ]
        }
      ]
    },
    {
      "cell_type": "code",
      "source": [],
      "metadata": {
        "id": "5LXfx4xHVCOT"
      },
      "execution_count": null,
      "outputs": []
    }
  ]
}